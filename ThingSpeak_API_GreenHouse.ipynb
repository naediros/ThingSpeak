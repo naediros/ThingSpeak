{
 "cells": [
  {
   "cell_type": "code",
   "execution_count": null,
   "metadata": {},
   "outputs": [],
   "source": [
    "import dotenv\n",
    "import os\n",
    "import requests\n",
    "import csv\n",
    "import matplotlib.pyplot as plt\n",
    "import pandas as pd\n",
    "import datetime\n",
    "import matplotlib.dates as mdates\n"
   ]
  },
  {
   "cell_type": "code",
   "execution_count": null,
   "metadata": {},
   "outputs": [],
   "source": [
    "dotenv.load_dotenv()"
   ]
  },
  {
   "cell_type": "code",
   "execution_count": null,
   "metadata": {},
   "outputs": [],
   "source": [
    "the_key = os.environ[\"READ_KEY\"]\n",
    "the_channel = os.environ[\"CHANNEL_ID\"]\n",
    "\n",
    "# print(cookies)\n",
    "r = requests.get(f'https://api.thingspeak.com/channels/{the_channel}/feeds.csv?api_key={the_key}&results=8000')\n",
    "r = r.text\n",
    "\n",
    "with open(rf'/Users/nada/Documents/ThingSpeak/api_raw.csv', 'w', newline='\\n') as file:\n",
    "    for line in r:\n",
    "#         if line\n",
    "        file.write(line)\n",
    "   # file.write('\\n')\n",
    "\n",
    "\n",
    "print(r)\n"
   ]
  },
  {
   "cell_type": "code",
   "execution_count": null,
   "metadata": {},
   "outputs": [],
   "source": [
    "d = list()\n",
    "\n",
    "with open(rf'/Users/nada/Documents/ThingSpeak/api_raw.csv', 'r', newline='\\n') as file:\n",
    "    # reader = csv.reader(file, delimiter=' ')\n",
    "    reader = csv.reader(file)\n",
    "\n",
    "    for row in reader:\n",
    "        # print(row)\n",
    "        d.append(row)"
   ]
  },
  {
   "cell_type": "code",
   "execution_count": null,
   "metadata": {},
   "outputs": [],
   "source": [
    "print(d[:10])\n",
    "d = pd.DataFrame(d[1:], columns=d[0])\n",
    "print(d.head())"
   ]
  },
  {
   "cell_type": "code",
   "execution_count": null,
   "metadata": {},
   "outputs": [],
   "source": [
    "fields = [\"TemperatureInside\", \"TemperatureOutside\", \"HumidityInside\" \"DewPoint\", \"BatteryVoltage\", \n",
    "          \"BatteryCurrent\", \"AtmosphericPressure\", \"Illumination\"]\n",
    "\n",
    "\n",
    "d.created_at = pd.to_datetime(d.created_at) \n",
    "for i, name in zip(d.columns[1:], fields):\n",
    "    print(i, name)\n",
    "    d[i] = pd.to_numeric(d[i])\n",
    "    d[i].rename(columns={i: name}, inplace=True, errors=\"raise\")\n",
    "\n",
    "d.info()\n"
   ]
  },
  {
   "cell_type": "code",
   "execution_count": null,
   "metadata": {
    "scrolled": true
   },
   "outputs": [],
   "source": [
    "print(d)"
   ]
  },
  {
   "cell_type": "code",
   "execution_count": null,
   "metadata": {},
   "outputs": [],
   "source": [
    "fig, ax = plt.subplots(figsize=(15,10))\n",
    "ax.plot(d['created_at'], d['field1'])\n",
    "ax.set_xlabel(\"Time and Date\")\n",
    "ax.set(gr)\n",
    "ax.set_ylabel(\"Temperature Inside in °C\")\n",
    "ax.set_title(\"TEMPERATURE LIVING ROOM MEDVIDAKOV\")\n",
    "plt.show()\n",
    "\n"
   ]
  },
  {
   "cell_type": "code",
   "execution_count": null,
   "metadata": {},
   "outputs": [],
   "source": [
    "import plotly.graph_objects as go\n",
    "\n",
    "\n",
    "colors = {\"Below Zero\": \"red\", \"Above Zero\": \"blue\"}\n",
    "\n",
    "d[\"insl\"]\n",
    "\n",
    "fig = go.FigureWidget()\n",
    "\n",
    "fig.add_scatter(x=d.created_at, y=d.field1, name=\"Inside Temperature\")\n",
    "\n",
    "fig.show()"
   ]
  },
  {
   "cell_type": "code",
   "execution_count": null,
   "metadata": {},
   "outputs": [],
   "source": [
    "help(go.FigureWidget.add_scatter)"
   ]
  },
  {
   "cell_type": "code",
   "execution_count": null,
   "metadata": {},
   "outputs": [],
   "source": []
  },
  {
   "cell_type": "code",
   "execution_count": null,
   "metadata": {},
   "outputs": [],
   "source": []
  },
  {
   "cell_type": "code",
   "execution_count": null,
   "metadata": {},
   "outputs": [],
   "source": []
  },
  {
   "cell_type": "code",
   "execution_count": null,
   "metadata": {},
   "outputs": [],
   "source": []
  },
  {
   "cell_type": "code",
   "execution_count": null,
   "metadata": {},
   "outputs": [],
   "source": []
  }
 ],
 "metadata": {
  "kernelspec": {
   "display_name": "Python 3",
   "language": "python",
   "name": "python3"
  },
  "language_info": {
   "codemirror_mode": {
    "name": "ipython",
    "version": 3
   },
   "file_extension": ".py",
   "mimetype": "text/x-python",
   "name": "python",
   "nbconvert_exporter": "python",
   "pygments_lexer": "ipython3",
   "version": "3.9.1"
  }
 },
 "nbformat": 4,
 "nbformat_minor": 2
}
